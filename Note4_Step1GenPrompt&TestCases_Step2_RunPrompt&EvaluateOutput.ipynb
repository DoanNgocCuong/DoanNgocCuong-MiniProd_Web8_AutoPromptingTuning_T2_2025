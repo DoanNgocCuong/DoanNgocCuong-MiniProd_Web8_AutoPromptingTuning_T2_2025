{
 "cells": [
  {
   "cell_type": "markdown",
   "metadata": {},
   "source": [
    "## Step 1: \n",
    "Prompt Gen Prompt + Prompt Gen Test cases + API trả ra cả Prompt và Test Cases của 2 Prompt kia - --- VỚi đầu vào là: format_output, samples, conditions"
   ]
  },
  {
   "cell_type": "markdown",
   "metadata": {},
   "source": [
    "## Step 2\n",
    "- từ file evaluator.py viết thành các file \n",
    "+, file run_prompt hàng loạt với bất kỳ prompt nào \n",
    "+, file run_prompt_with_test cases generated.py ? (kế thừa từ run_prompt.py và nhận input là: Prompt generated và testcases Generated. \n",
    "+, file run_prompt_evaluate: expected_output của test cases với output của run_prompt_with_test cases generated.py"
   ]
  },
  {
   "cell_type": "markdown",
   "metadata": {},
   "source": [
    "Tách thành api run: run_prompt_with_test cases generated\n",
    "Và api run: un_prompt_evaluate: expected_output của test cases với output của run_prompt_with_test cases generated"
   ]
  }
 ],
 "metadata": {
  "language_info": {
   "name": "python"
  }
 },
 "nbformat": 4,
 "nbformat_minor": 2
}
